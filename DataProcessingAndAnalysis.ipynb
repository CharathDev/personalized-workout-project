{
 "cells": [
  {
   "cell_type": "code",
   "execution_count": 5,
   "id": "1e6cccf0-15fd-43f0-8d58-498b8f6838a9",
   "metadata": {},
   "outputs": [],
   "source": [
    "import pandas as pd\n",
    "import numpy as np\n",
    "import matplotlib.pyplot as plt\n",
    "import seaborn as sns"
   ]
  },
  {
   "cell_type": "code",
   "execution_count": 7,
   "id": "f212d9c4-f765-435d-b144-5827d51d7ce6",
   "metadata": {},
   "outputs": [],
   "source": [
    "df = pd.read_csv('data.csv')"
   ]
  },
  {
   "cell_type": "code",
   "execution_count": 9,
   "id": "69f2e8a8-a8f0-46dc-a2a5-e44c8b2b9d3d",
   "metadata": {},
   "outputs": [
    {
     "data": {
      "text/html": [
       "<div>\n",
       "<style scoped>\n",
       "    .dataframe tbody tr th:only-of-type {\n",
       "        vertical-align: middle;\n",
       "    }\n",
       "\n",
       "    .dataframe tbody tr th {\n",
       "        vertical-align: top;\n",
       "    }\n",
       "\n",
       "    .dataframe thead th {\n",
       "        text-align: right;\n",
       "    }\n",
       "</style>\n",
       "<table border=\"1\" class=\"dataframe\">\n",
       "  <thead>\n",
       "    <tr style=\"text-align: right;\">\n",
       "      <th></th>\n",
       "      <th>Goals</th>\n",
       "      <th>Level</th>\n",
       "      <th>Days</th>\n",
       "      <th>Time</th>\n",
       "      <th>Equipments</th>\n",
       "      <th>Gender</th>\n",
       "      <th>Workout</th>\n",
       "    </tr>\n",
       "  </thead>\n",
       "  <tbody>\n",
       "    <tr>\n",
       "      <th>0</th>\n",
       "      <td>Build Muscle</td>\n",
       "      <td>Beginner</td>\n",
       "      <td>4</td>\n",
       "      <td>45.0</td>\n",
       "      <td>['Bodyweight']</td>\n",
       "      <td>Male</td>\n",
       "      <td>[[{'exercise': 'Push Up', 'sets': 4, 'reps': 1...</td>\n",
       "    </tr>\n",
       "    <tr>\n",
       "      <th>1</th>\n",
       "      <td>Build Muscle</td>\n",
       "      <td>Beginner</td>\n",
       "      <td>4</td>\n",
       "      <td>45.0</td>\n",
       "      <td>['Bodyweight']</td>\n",
       "      <td>Female</td>\n",
       "      <td>[[{'exercise': 'Push Up', 'sets': 4, 'reps': 1...</td>\n",
       "    </tr>\n",
       "    <tr>\n",
       "      <th>2</th>\n",
       "      <td>Build Muscle</td>\n",
       "      <td>Advanced</td>\n",
       "      <td>6</td>\n",
       "      <td>67.5</td>\n",
       "      <td>['Barbell', 'Bodyweight', 'Cables', 'Dumbbells...</td>\n",
       "      <td>Male</td>\n",
       "      <td>[[{'exercise': '- Set 1 at 50%', 'sets': 1, 'r...</td>\n",
       "    </tr>\n",
       "    <tr>\n",
       "      <th>3</th>\n",
       "      <td>Build Muscle</td>\n",
       "      <td>Advanced</td>\n",
       "      <td>6</td>\n",
       "      <td>67.5</td>\n",
       "      <td>['Barbell', 'Bodyweight', 'Cables', 'Dumbbells...</td>\n",
       "      <td>Female</td>\n",
       "      <td>[[{'exercise': '- Set 1 at 50%', 'sets': 1, 'r...</td>\n",
       "    </tr>\n",
       "    <tr>\n",
       "      <th>4</th>\n",
       "      <td>Lose Fat</td>\n",
       "      <td>Intermediate</td>\n",
       "      <td>7</td>\n",
       "      <td>75.0</td>\n",
       "      <td>['Barbell', 'Bodyweight', 'Cables', 'Dumbbells...</td>\n",
       "      <td>Male</td>\n",
       "      <td>[[{'exercise': 'Squat', 'sets': 4, 'reps': 8},...</td>\n",
       "    </tr>\n",
       "  </tbody>\n",
       "</table>\n",
       "</div>"
      ],
      "text/plain": [
       "          Goals         Level  Days  Time  \\\n",
       "0  Build Muscle      Beginner     4  45.0   \n",
       "1  Build Muscle      Beginner     4  45.0   \n",
       "2  Build Muscle      Advanced     6  67.5   \n",
       "3  Build Muscle      Advanced     6  67.5   \n",
       "4      Lose Fat  Intermediate     7  75.0   \n",
       "\n",
       "                                          Equipments  Gender  \\\n",
       "0                                     ['Bodyweight']    Male   \n",
       "1                                     ['Bodyweight']  Female   \n",
       "2  ['Barbell', 'Bodyweight', 'Cables', 'Dumbbells...    Male   \n",
       "3  ['Barbell', 'Bodyweight', 'Cables', 'Dumbbells...  Female   \n",
       "4  ['Barbell', 'Bodyweight', 'Cables', 'Dumbbells...    Male   \n",
       "\n",
       "                                             Workout  \n",
       "0  [[{'exercise': 'Push Up', 'sets': 4, 'reps': 1...  \n",
       "1  [[{'exercise': 'Push Up', 'sets': 4, 'reps': 1...  \n",
       "2  [[{'exercise': '- Set 1 at 50%', 'sets': 1, 'r...  \n",
       "3  [[{'exercise': '- Set 1 at 50%', 'sets': 1, 'r...  \n",
       "4  [[{'exercise': 'Squat', 'sets': 4, 'reps': 8},...  "
      ]
     },
     "execution_count": 9,
     "metadata": {},
     "output_type": "execute_result"
    }
   ],
   "source": [
    "df.head()"
   ]
  },
  {
   "cell_type": "code",
   "execution_count": 11,
   "id": "9210e885-a5f1-4f9d-afb3-ec9bacf387cc",
   "metadata": {},
   "outputs": [
    {
     "data": {
      "text/plain": [
       "Goals         0\n",
       "Level         0\n",
       "Days          0\n",
       "Time          0\n",
       "Equipments    0\n",
       "Gender        0\n",
       "Workout       0\n",
       "dtype: int64"
      ]
     },
     "execution_count": 11,
     "metadata": {},
     "output_type": "execute_result"
    }
   ],
   "source": [
    "df.isna().sum()"
   ]
  },
  {
   "cell_type": "code",
   "execution_count": 19,
   "id": "fb247c6b-6f72-4cbc-8f30-084ca32e47ad",
   "metadata": {},
   "outputs": [
    {
     "data": {
      "text/plain": [
       "([0, 1, 2, 3, 4, 5],\n",
       " [Text(0, 0, 'Build Muscle'),\n",
       "  Text(1, 0, 'Lose Fat'),\n",
       "  Text(2, 0, 'Increase Strength'),\n",
       "  Text(3, 0, 'General Fitness'),\n",
       "  Text(4, 0, 'Increase Endurance'),\n",
       "  Text(5, 0, 'Sports Performance')])"
      ]
     },
     "execution_count": 19,
     "metadata": {},
     "output_type": "execute_result"
    },
    {
     "data": {
      "image/png": "[encoded data removed]",
      "text/plain": [
       "<Figure size 640x480 with 1 Axes>"
      ]
     },
     "metadata": {},
     "output_type": "display_data"
    }
   ],
   "source": [
    "sns.countplot(data=df, x='Goals')\n",
    "plt.xticks(rotation=45, ha='right')"
   ]
  },
  {
   "cell_type": "code",
   "execution_count": 21,
   "id": "dfddbba4-61c2-44b1-9be3-3712ee669ccb",
   "metadata": {},
   "outputs": [
    {
     "data": {
      "text/plain": [
       "(827, 7)"
      ]
     },
     "execution_count": 21,
     "metadata": {},
     "output_type": "execute_result"
    }
   ],
   "source": [
    "df.shape"
   ]
  },
  {
   "cell_type": "code",
   "execution_count": 30,
   "id": "55b4136e-e93b-49f9-9659-ad29c3288850",
   "metadata": {},
   "outputs": [
    {
     "data": {
      "text/plain": [
       "array(['Build Muscle', 'Lose Fat', 'Increase Strength', 'General Fitness',\n",
       "       'Increase Endurance', 'Sports Performance'], dtype=object)"
      ]
     },
     "execution_count": 30,
     "metadata": {},
     "output_type": "execute_result"
    }
   ],
   "source": [
    "df.Goals.unique()"
   ]
  }
 ],
 "metadata": {
  "kernelspec": {
   "display_name": "Python 3 (ipykernel)",
   "language": "python",
   "name": "python3"
  },
  "language_info": {
   "codemirror_mode": {
    "name": "ipython",
    "version": 3
   },
   "file_extension": ".py",
   "mimetype": "text/x-python",
   "name": "python",
   "nbconvert_exporter": "python",
   "pygments_lexer": "ipython3",
   "version": "3.11.4"
  }
 },
 "nbformat": 4,
 "nbformat_minor": 5
}
