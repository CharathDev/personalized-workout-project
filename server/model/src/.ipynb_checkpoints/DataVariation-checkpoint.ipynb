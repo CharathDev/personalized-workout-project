{
 "cells": [
  {
   "cell_type": "code",
   "execution_count": 3,
   "id": "485ad4e1-44a1-406e-acf1-570b9b915b9e",
   "metadata": {},
   "outputs": [],
   "source": [
    "import ast\n",
    "import random\n",
    "import pandas as pd\n",
    "import csv\n",
    "import json"
   ]
  },
  {
   "cell_type": "code",
   "execution_count": 90,
   "id": "3e163f67-6ae7-4986-923d-53fbdce40b17",
   "metadata": {},
   "outputs": [
    {
     "name": "stdout",
     "output_type": "stream",
     "text": [
      "Generated 7640 workout variations and saved to workout_variations.csv\n"
     ]
    }
   ],
   "source": [
    "class WorkoutVariationGenerator:\n",
    "    def __init__(self):\n",
    "        self.exercise_mapping = {\n",
    "            \"Push Up\": [\"Diamond Push Up\", \"Feet Elevated Push Up\", \"Wide Push Up\"],\n",
    "            \"Medium-Grip Pull Up\": [\"Shoulder Width Reverse Grip Pull Up\", \"Wide Grip Pull Up\"],\n",
    "            \"Handstand or Jackknife Push Up\": [\"Pike Push Up\", \"Wall Push Up\"],\n",
    "            \"Diamond Push Up\": [\"Close Grip Push Up\", \"Tricep Push Up\"],\n",
    "            \"Inverted Rack Curl Up\": [\"Hanging Leg Raise\", \"Knee Raise\"],\n",
    "            \n",
    "            \"Single-Leg Calf Raise\": [\"Calf Raise\", \"Seated Calf Raise\"],\n",
    "            \"Jump Squat\": [\"Box Jump\", \"Plyometric Squat\"],\n",
    "            \"Walking Lunge\": [\"Reverse Lunge\", \"Stationary Lunge\"],\n",
    "            \"Hanging Leg Raise\": [\"Lying Leg Raise\", \"Flutter Kicks\"],\n",
    "            \n",
    "            \"Incline Dumbbell Press\": [\"Flat Dumbbell Press\", \"Hammer Strength Press\"],\n",
    "            \"Dips\": [\"Tricep Dips\", \"Bench Dips\"],\n",
    "            \"Pullups\": [\"Chin-ups\", \"Neutral Grip Pull-ups\"],\n",
    "            \"Pendlay Rows\": [\"Barbell Rows\", \"Bent Over Rows\"],\n",
    "            \"Pulldowns\": [\"Reverse Grip Pull-Downs\", \"Wide Grip Pull-Downs\"],\n",
    "            \n",
    "            \"Leg Press\": [\"Hack Squat\", \"Smith Machine Squat\"],\n",
    "            \"Stiff-Legged Deadlift\": [\"Romanian Deadlift\", \"Good Morning\"],\n",
    "            \"Hamstring Curls\": [\"Seated Leg Curls\", \"Lying Leg Curls\"],\n",
    "            \"Calf-Raise\": [\"Standing Calf Raise\", \"Seated Calf Raise\"],\n",
    "            \n",
    "            \"Military Press or Dumbbell Press\": [\"Arnold Press\", \"Seated Dumbbell Press\"],\n",
    "            \"Lateral Raises\": [\"Front Raises\", \"Cable Lateral Raises\"],\n",
    "            \"Barbell Curls\": [\"EZ Bar Curls\", \"Preacher Curls\"],\n",
    "            \"Dumbbell Curls\": [\"Hammer Curls\", \"Concentration Curls\"],\n",
    "            \n",
    "            \"Short All-Out Sprint Outdoors or on Treadmill\": [\"High Knee Runs\", \"Burpees\"],\n",
    "            \"Floor Crunch or Planks\": [\"Russian Twists\", \"Mountain Climbers\"]\n",
    "        }\n",
    "\n",
    "    def generate_variation(self, row, existing_goals, existing_levels):\n",
    "        variation = row.copy()\n",
    "        \n",
    "        variation['Days'] = max(1, int(row['Days']) + random.choice([-1, 0, 1]))\n",
    "        variation['Time'] = round(max(15, float(row['Time']) + random.choice([-10, 0, 10])), 1)\n",
    "        \n",
    "        if random.random() < 0.3:\n",
    "            equipments = ast.literal_eval(row['Equipments'])\n",
    "            if random.random() < 0.5 and len(equipments) > 1:\n",
    "                equipments.pop(random.randint(0, len(equipments)-1))\n",
    "            else:\n",
    "                potential_equip = ['Bands', 'Barbell', 'Bodyweight', 'Cables', 'Dumbbells', 'Exercise Ball', 'Machines', 'Other', 'Kettle Bells']\n",
    "                new_equip = random.choice([eq for eq in potential_equip if eq not in equipments])\n",
    "                equipments.append(new_equip)\n",
    "            variation['Equipments'] = str(equipments)\n",
    "        \n",
    "        original_workout = ast.literal_eval(row['Workout'])\n",
    "        varied_workout = []\n",
    "        \n",
    "        for day_workout in original_workout:\n",
    "            day_variation = []\n",
    "            for exercise_dict in day_workout:\n",
    "                if '- Set' in exercise_dict['exercise']:\n",
    "                    day_variation.append(exercise_dict)\n",
    "                    continue\n",
    "                \n",
    "                similar_exercises = self.exercise_mapping.get(exercise_dict['exercise'], \n",
    "                    [exercise_dict['exercise']])\n",
    "                \n",
    "                new_exercise = random.choice(similar_exercises)\n",
    "                \n",
    "                new_exercise_dict = {\n",
    "                    \"exercise\": new_exercise,\n",
    "                    \"sets\": exercise_dict['sets'],\n",
    "                    \"reps\": exercise_dict['reps']\n",
    "                }\n",
    "                \n",
    "                day_variation.append(new_exercise_dict)\n",
    "            \n",
    "            varied_workout.append(day_variation)\n",
    "        \n",
    "        variation['Workout'] = str(varied_workout)\n",
    "        \n",
    "        return variation\n",
    "\n",
    "    def generate_workout_variations(self, df, num_variations=3):\n",
    "        existing_goals = df['Goals'].unique().tolist()\n",
    "        existing_levels = df['Level'].unique().tolist()\n",
    "        \n",
    "        variations = []\n",
    "        for _, row in df.iterrows():\n",
    "            workout_variations = [\n",
    "                self.generate_variation(row, existing_goals, existing_levels) \n",
    "                for _ in range(num_variations)\n",
    "            ]\n",
    "            variations.extend(workout_variations)\n",
    "        \n",
    "        return pd.DataFrame(variations)\n",
    "\n",
    "    def save_to_csv(self, df, filename='../data/workout_variations.csv'):\n",
    "        df.to_csv(filename, index=False)\n",
    "\n",
    "def main():\n",
    "    input_df = pd.read_csv('../data/cleaned_data_safe_final.csv')\n",
    "    \n",
    "    generator = WorkoutVariationGenerator()\n",
    "    \n",
    "    variations_df = generator.generate_workout_variations(input_df, 10)\n",
    "    \n",
    "    generator.save_to_csv(variations_df, '../data/workout_variations.csv')\n",
    "    \n",
    "    print(f\"Generated {len(variations_df)} workout variations and saved to workout_variations.csv\")\n",
    "\n",
    "if __name__ == \"__main__\":\n",
    "    main()"
   ]
  },
  {
   "cell_type": "code",
   "execution_count": 103,
   "id": "f55d1a6b-8874-4e45-88ff-0668b5af7e0f",
   "metadata": {
    "scrolled": true
   },
   "outputs": [
    {
     "data": {
      "text/plain": [
       "\"[[{'exercise': '- Set 1 at 50%', 'sets': 1, 'reps': 5}, {'exercise': '- Set 2 at 60%', 'sets': 1, 'reps': 5}, {'exercise': '- Set 3 at 70%', 'sets': 1, 'reps': 5}, {'exercise': '- Set 4 at 80%', 'sets': 1, 'reps': 5}, {'exercise': '- Set 5 at 90%', 'sets': 1, 'reps': 5}, {'exercise': '- Set 6 at 100%', 'sets': 1, 'reps': 5}, {'exercise': 'Hammer Strength Press', 'sets': 3, 'reps': 7}, {'exercise': 'Tricep Dips', 'sets': 3, 'reps': 8}, {'exercise': 'Neutral Grip Pull-ups', 'sets': 3, 'reps': 7}, {'exercise': 'Bent Over Rows', 'sets': 3, 'reps': 8}, {'exercise': 'Reverse Grip Pull-Downs', 'sets': 3, 'reps': 8}], [{'exercise': '- Set 1 at 50%', 'sets': 1, 'reps': 5}, {'exercise': '- Set 2 at 60%', 'sets': 1, 'reps': 5}, {'exercise': '- Set 3 at 70%', 'sets': 1, 'reps': 5}, {'exercise': '- Set 4 at 80%', 'sets': 1, 'reps': 5}, {'exercise': '- Set 5 at 90%', 'sets': 1, 'reps': 5}, {'exercise': '- Set 6 at 100%', 'sets': 1, 'reps': 5}, {'exercise': 'Smith Machine Squat', 'sets': 3, 'reps': 8}, {'exercise': 'Good Morning', 'sets': 5, 'reps': 5}, {'exercise': 'Lying Leg Curls', 'sets': 3, 'reps': 7}, {'exercise': 'Seated Calf Raise', 'sets': 5, 'reps': 10}], [{'exercise': 'Seated Dumbbell Press', 'sets': 3, 'reps': 7}, {'exercise': 'Cable Lateral Raises', 'sets': 5, 'reps': 10}, {'exercise': 'EZ Bar Curls', 'sets': 5, 'reps': 8}, {'exercise': 'Hammer Curls', 'sets': 3, 'reps': 8}], [{'exercise': 'Flat Dumbbell Press', 'sets': 5, 'reps': 13}, {'exercise': 'Flat Dumbbell Press', 'sets': 3, 'reps': 8}, {'exercise': 'Hammer Strength Press', 'sets': 3, 'reps': 10}, {'exercise': 'Cable Flys', 'sets': 3, 'reps': 14}, {'exercise': 'Cable Lateral Raises', 'sets': 5, 'reps': 18}, {'exercise': 'Reverse-Grip Pull-Downs', 'sets': 5, 'reps': 18}], [{'exercise': 'Barbell Rows', 'sets': 5, 'reps': 14}, {'exercise': 'Barbell Shrugs', 'sets': 3, 'reps': 18}, {'exercise': 'Rack Deadlifts', 'sets': 3, 'reps': 11}, {'exercise': 'Neutral Grip Pull-ups', 'sets': 3, 'reps': 8}, {'exercise': 'Wide Grip Pull-Downs', 'sets': 3, 'reps': 8}], [{'exercise': 'Front Squats', 'sets': 5, 'reps': 14}, {'exercise': 'Leg Extensions', 'sets': 5, 'reps': 10}, {'exercise': 'Lying Leg Curls', 'sets': 5, 'reps': 8}, {'exercise': 'Seated Calf Raise', 'sets': 5, 'reps': 8}, {'exercise': 'Standing Calf Raise', 'sets': 3, 'reps': 10}]]\""
      ]
     },
     "execution_count": 103,
     "metadata": {},
     "output_type": "execute_result"
    }
   ],
   "source": [
    "df = pd.read_csv('../data/workout_variations.csv')\n",
    "df.Workout.head(25)[21]"
   ]
  },
  {
   "cell_type": "code",
   "execution_count": 3,
   "id": "619b6acd-d2c5-4150-a920-cd2ad0504f7d",
   "metadata": {},
   "outputs": [
    {
     "ename": "NameError",
     "evalue": "name 'pd' is not defined",
     "output_type": "error",
     "traceback": [
      "\u001b[1;31m---------------------------------------------------------------------------\u001b[0m",
      "\u001b[1;31mNameError\u001b[0m                                 Traceback (most recent call last)",
      "Cell \u001b[1;32mIn[3], line 1\u001b[0m\n\u001b[1;32m----> 1\u001b[0m df2 \u001b[38;5;241m=\u001b[39m pd\u001b[38;5;241m.\u001b[39mread_csv(\u001b[38;5;124m'\u001b[39m\u001b[38;5;124m../data/cleaned_data_safe_final.csv\u001b[39m\u001b[38;5;124m'\u001b[39m)\n\u001b[0;32m      2\u001b[0m df2\u001b[38;5;241m.\u001b[39mhead()\u001b[38;5;241m.\u001b[39mto_csv(\u001b[38;5;124m'\u001b[39m\u001b[38;5;124m../data/small_data.csv\u001b[39m\u001b[38;5;124m'\u001b[39m, index\u001b[38;5;241m=\u001b[39m\u001b[38;5;28;01mFalse\u001b[39;00m)\n",
      "\u001b[1;31mNameError\u001b[0m: name 'pd' is not defined"
     ]
    }
   ],
   "source": [
    "df2 = pd.read_csv('../data/cleaned_data_safe_final.csv')\n",
    "df2.head().to_csv('../data/small_data.csv', index=False)"
   ]
  }
 ],
 "metadata": {
  "kernelspec": {
   "display_name": "Python 3 (ipykernel)",
   "language": "python",
   "name": "python3"
  },
  "language_info": {
   "codemirror_mode": {
    "name": "ipython",
    "version": 3
   },
   "file_extension": ".py",
   "mimetype": "text/x-python",
   "name": "python",
   "nbconvert_exporter": "python",
   "pygments_lexer": "ipython3",
   "version": "3.11.4"
  }
 },
 "nbformat": 4,
 "nbformat_minor": 5
}
